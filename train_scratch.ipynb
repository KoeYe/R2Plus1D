{
 "cells": [
  {
   "cell_type": "code",
   "id": "initial_id",
   "metadata": {
    "collapsed": true,
    "ExecuteTime": {
     "end_time": "2025-06-01T20:26:30.343043Z",
     "start_time": "2025-06-01T20:26:28.229710Z"
    }
   },
   "source": [
    "import torch\n",
    "import torch.nn as nn\n",
    "import torch.optim as optim\n",
    "import torch.optim.lr_scheduler as lr_scheduler\n",
    "\n",
    "from video_datasets import HuggingFaceSSV2Dataset\n",
    "# from models.r2plus1d import R2Plus1DClassifier\n",
    "from models.r2plus1d_attn import R2Plus1DClassifier"
   ],
   "outputs": [
    {
     "name": "stderr",
     "output_type": "stream",
     "text": [
      "/home/leo/anaconda3/envs/R2Plus1D/lib/python3.12/site-packages/tqdm/auto.py:21: TqdmWarning: IProgress not found. Please update jupyter and ipywidgets. See https://ipywidgets.readthedocs.io/en/stable/user_install.html\n",
      "  from .autonotebook import tqdm as notebook_tqdm\n"
     ]
    }
   ],
   "execution_count": 1
  },
  {
   "metadata": {
    "ExecuteTime": {
     "end_time": "2025-06-01T20:26:30.399435Z",
     "start_time": "2025-06-01T20:26:30.394962Z"
    }
   },
   "cell_type": "code",
   "source": [
    "import tqdm\n",
    "class Trainer:\n",
    "    \"\"\"\n",
    "    Trainer for video classification models with tqdm progress bars.\n",
    "    \"\"\"\n",
    "    def __init__(self, model, train_loader, val_loader, device):\n",
    "        self.model = model.to(device)\n",
    "        self.train_loader = train_loader\n",
    "        self.val_loader = val_loader\n",
    "        self.device = device\n",
    "        self.criterion = nn.CrossEntropyLoss()\n",
    "        self.optimizer = optim.Adam(self.model.parameters(), lr=1e-4)\n",
    "        self.scheduler = lr_scheduler.ReduceLROnPlateau(self.optimizer, mode='min', patience=3)\n",
    "\n",
    "    def train_epoch(self, epoch):\n",
    "        self.model.train()\n",
    "        total_loss, correct, total = 0.0, 0, 0\n",
    "        pbar = tqdm.tqdm(self.train_loader, desc=f\"Epoch {epoch} [Train]\", unit=\"batch\", leave=False)\n",
    "        for videos, labels in pbar:\n",
    "            videos = videos.to(self.device)\n",
    "            labels = labels.to(self.device)\n",
    "            self.optimizer.zero_grad()\n",
    "            logits = self.model(videos)\n",
    "            loss = self.criterion(logits, labels)\n",
    "            loss.backward()\n",
    "            self.optimizer.step()\n",
    "\n",
    "            total_loss += loss.item() * videos.size(0)\n",
    "            preds = logits.argmax(dim=1)\n",
    "            correct += (preds == labels).sum().item()\n",
    "            total += videos.size(0)\n",
    "\n",
    "            running_loss = total_loss / total\n",
    "            running_acc = correct / total\n",
    "            pbar.set_postfix(loss=f\"{running_loss:.4f}\", acc=f\"{running_acc:.4f}\")\n",
    "\n",
    "        avg_loss = total_loss / total\n",
    "        acc = correct / total\n",
    "        return avg_loss, acc\n",
    "\n",
    "    def eval_epoch(self, epoch):\n",
    "        self.model.eval()\n",
    "        total_loss, correct, total = 0.0, 0, 0\n",
    "        pbar = tqdm.tqdm(self.val_loader, desc=f\"Epoch {epoch} [Val]  \", unit=\"batch\", leave=False)\n",
    "        with torch.no_grad():\n",
    "            for videos, labels in pbar:\n",
    "                videos = videos.to(self.device)\n",
    "                labels = labels.to(self.device)\n",
    "                logits = self.model(videos)\n",
    "                loss = self.criterion(logits, labels)\n",
    "\n",
    "                total_loss += loss.item() * videos.size(0)\n",
    "                preds = logits.argmax(dim=1)\n",
    "                correct += (preds == labels).sum().item()\n",
    "                total += videos.size(0)\n",
    "\n",
    "                running_loss = total_loss / total\n",
    "                running_acc = correct / total\n",
    "                pbar.set_postfix(loss=f\"{running_loss:.4f}\", acc=f\"{running_acc:.4f}\")\n",
    "\n",
    "        avg_loss = total_loss / total\n",
    "        acc = correct / total\n",
    "        return avg_loss, acc\n",
    "\n",
    "    def fit(self, epochs):\n",
    "        for epoch in range(1, epochs + 1):\n",
    "            train_loss, train_acc = self.train_epoch(epoch)\n",
    "            val_loss, val_acc = self.eval_epoch(epoch)\n",
    "            self.scheduler.step(val_loss)\n",
    "            print(f\"Epoch {epoch}:\")\n",
    "            print(f\"  Train loss: {train_loss:.4f}, acc: {train_acc:.4f}\")\n",
    "            print(f\"  Val   loss: {val_loss:.4f}, acc: {val_acc:.4f}\")"
   ],
   "id": "46d15fe38426f9d3",
   "outputs": [],
   "execution_count": 2
  },
  {
   "metadata": {
    "ExecuteTime": {
     "end_time": "2025-06-01T20:26:30.844551Z",
     "start_time": "2025-06-01T20:26:30.442851Z"
    }
   },
   "cell_type": "code",
   "source": [
    "device = torch.device(\"cuda\" if torch.cuda.is_available() else \"cpu\")\n",
    "model = R2Plus1DClassifier(num_classes=174, pretrained=True)"
   ],
   "id": "6903919b879aca3",
   "outputs": [
    {
     "name": "stderr",
     "output_type": "stream",
     "text": [
      "/home/leo/anaconda3/envs/R2Plus1D/lib/python3.12/site-packages/torchvision/models/_utils.py:208: UserWarning: The parameter 'pretrained' is deprecated since 0.13 and may be removed in the future, please use 'weights' instead.\n",
      "  warnings.warn(\n",
      "/home/leo/anaconda3/envs/R2Plus1D/lib/python3.12/site-packages/torchvision/models/_utils.py:223: UserWarning: Arguments other than a weight enum or `None` for 'weights' are deprecated since 0.13 and may be removed in the future. The current behavior is equivalent to passing `weights=R2Plus1D_18_Weights.KINETICS400_V1`. You can also use `weights=R2Plus1D_18_Weights.DEFAULT` to get the most up-to-date weights.\n",
      "  warnings.warn(msg)\n"
     ]
    },
    {
     "name": "stdout",
     "output_type": "stream",
     "text": [
      "stem.0.weight is matching!\n",
      "stem.1.weight is matching!\n",
      "stem.1.bias is matching!\n",
      "stem.1.running_mean is matching!\n",
      "stem.1.running_var is matching!\n",
      "stem.1.num_batches_tracked is matching!\n",
      "stem.3.weight is matching!\n",
      "stem.4.weight is matching!\n",
      "stem.4.bias is matching!\n",
      "stem.4.running_mean is matching!\n",
      "stem.4.running_var is matching!\n",
      "stem.4.num_batches_tracked is matching!\n",
      "layer1.0.conv1.0.0.weight is matching!\n",
      "layer1.0.conv1.0.1.weight is matching!\n",
      "layer1.0.conv1.0.1.bias is matching!\n",
      "layer1.0.conv1.0.1.running_mean is matching!\n",
      "layer1.0.conv1.0.1.running_var is matching!\n",
      "layer1.0.conv1.0.1.num_batches_tracked is matching!\n",
      "layer1.0.conv1.0.3.weight is matching!\n",
      "layer1.0.conv1.1.weight is matching!\n",
      "layer1.0.conv1.1.bias is matching!\n",
      "layer1.0.conv1.1.running_mean is matching!\n",
      "layer1.0.conv1.1.running_var is matching!\n",
      "layer1.0.conv1.1.num_batches_tracked is matching!\n",
      "layer1.0.conv2.0.0.weight is not expected\n",
      "layer1.0.conv2.0.1.weight is not expected\n",
      "layer1.0.conv2.0.1.bias is not expected\n",
      "layer1.0.conv2.0.1.running_mean is not expected\n",
      "layer1.0.conv2.0.1.running_var is not expected\n",
      "layer1.0.conv2.0.1.num_batches_tracked is not expected\n",
      "layer1.0.conv2.0.3.weight is not expected\n",
      "layer1.0.conv2.1.weight is not expected\n",
      "layer1.0.conv2.1.bias is not expected\n",
      "layer1.0.conv2.1.running_mean is not expected\n",
      "layer1.0.conv2.1.running_var is not expected\n",
      "layer1.0.conv2.1.num_batches_tracked is not expected\n",
      "layer1.1.conv1.0.0.weight is matching!\n",
      "layer1.1.conv1.0.1.weight is matching!\n",
      "layer1.1.conv1.0.1.bias is matching!\n",
      "layer1.1.conv1.0.1.running_mean is matching!\n",
      "layer1.1.conv1.0.1.running_var is matching!\n",
      "layer1.1.conv1.0.1.num_batches_tracked is matching!\n",
      "layer1.1.conv1.0.3.weight is matching!\n",
      "layer1.1.conv1.1.weight is matching!\n",
      "layer1.1.conv1.1.bias is matching!\n",
      "layer1.1.conv1.1.running_mean is matching!\n",
      "layer1.1.conv1.1.running_var is matching!\n",
      "layer1.1.conv1.1.num_batches_tracked is matching!\n",
      "layer1.1.conv2.0.0.weight is not expected\n",
      "layer1.1.conv2.0.1.weight is not expected\n",
      "layer1.1.conv2.0.1.bias is not expected\n",
      "layer1.1.conv2.0.1.running_mean is not expected\n",
      "layer1.1.conv2.0.1.running_var is not expected\n",
      "layer1.1.conv2.0.1.num_batches_tracked is not expected\n",
      "layer1.1.conv2.0.3.weight is not expected\n",
      "layer1.1.conv2.1.weight is not expected\n",
      "layer1.1.conv2.1.bias is not expected\n",
      "layer1.1.conv2.1.running_mean is not expected\n",
      "layer1.1.conv2.1.running_var is not expected\n",
      "layer1.1.conv2.1.num_batches_tracked is not expected\n",
      "layer2.0.conv1.0.0.weight is matching!\n",
      "layer2.0.conv1.0.1.weight is matching!\n",
      "layer2.0.conv1.0.1.bias is matching!\n",
      "layer2.0.conv1.0.1.running_mean is matching!\n",
      "layer2.0.conv1.0.1.running_var is matching!\n",
      "layer2.0.conv1.0.1.num_batches_tracked is matching!\n",
      "layer2.0.conv1.0.3.weight is matching!\n",
      "layer2.0.conv1.1.weight is matching!\n",
      "layer2.0.conv1.1.bias is matching!\n",
      "layer2.0.conv1.1.running_mean is matching!\n",
      "layer2.0.conv1.1.running_var is matching!\n",
      "layer2.0.conv1.1.num_batches_tracked is matching!\n",
      "layer2.0.conv2.0.0.weight is not expected\n",
      "layer2.0.conv2.0.1.weight is not expected\n",
      "layer2.0.conv2.0.1.bias is not expected\n",
      "layer2.0.conv2.0.1.running_mean is not expected\n",
      "layer2.0.conv2.0.1.running_var is not expected\n",
      "layer2.0.conv2.0.1.num_batches_tracked is not expected\n",
      "layer2.0.conv2.0.3.weight is not expected\n",
      "layer2.0.conv2.1.weight is not expected\n",
      "layer2.0.conv2.1.bias is not expected\n",
      "layer2.0.conv2.1.running_mean is not expected\n",
      "layer2.0.conv2.1.running_var is not expected\n",
      "layer2.0.conv2.1.num_batches_tracked is not expected\n",
      "layer2.0.downsample.0.weight is matching!\n",
      "layer2.0.downsample.1.weight is matching!\n",
      "layer2.0.downsample.1.bias is matching!\n",
      "layer2.0.downsample.1.running_mean is matching!\n",
      "layer2.0.downsample.1.running_var is matching!\n",
      "layer2.0.downsample.1.num_batches_tracked is matching!\n",
      "layer2.1.conv1.0.0.weight is matching!\n",
      "layer2.1.conv1.0.1.weight is matching!\n",
      "layer2.1.conv1.0.1.bias is matching!\n",
      "layer2.1.conv1.0.1.running_mean is matching!\n",
      "layer2.1.conv1.0.1.running_var is matching!\n",
      "layer2.1.conv1.0.1.num_batches_tracked is matching!\n",
      "layer2.1.conv1.0.3.weight is matching!\n",
      "layer2.1.conv1.1.weight is matching!\n",
      "layer2.1.conv1.1.bias is matching!\n",
      "layer2.1.conv1.1.running_mean is matching!\n",
      "layer2.1.conv1.1.running_var is matching!\n",
      "layer2.1.conv1.1.num_batches_tracked is matching!\n",
      "layer2.1.conv2.0.0.weight is not expected\n",
      "layer2.1.conv2.0.1.weight is not expected\n",
      "layer2.1.conv2.0.1.bias is not expected\n",
      "layer2.1.conv2.0.1.running_mean is not expected\n",
      "layer2.1.conv2.0.1.running_var is not expected\n",
      "layer2.1.conv2.0.1.num_batches_tracked is not expected\n",
      "layer2.1.conv2.0.3.weight is not expected\n",
      "layer2.1.conv2.1.weight is not expected\n",
      "layer2.1.conv2.1.bias is not expected\n",
      "layer2.1.conv2.1.running_mean is not expected\n",
      "layer2.1.conv2.1.running_var is not expected\n",
      "layer2.1.conv2.1.num_batches_tracked is not expected\n",
      "layer3.0.conv1.0.0.weight is matching!\n",
      "layer3.0.conv1.0.1.weight is matching!\n",
      "layer3.0.conv1.0.1.bias is matching!\n",
      "layer3.0.conv1.0.1.running_mean is matching!\n",
      "layer3.0.conv1.0.1.running_var is matching!\n",
      "layer3.0.conv1.0.1.num_batches_tracked is matching!\n",
      "layer3.0.conv1.0.3.weight is matching!\n",
      "layer3.0.conv1.1.weight is matching!\n",
      "layer3.0.conv1.1.bias is matching!\n",
      "layer3.0.conv1.1.running_mean is matching!\n",
      "layer3.0.conv1.1.running_var is matching!\n",
      "layer3.0.conv1.1.num_batches_tracked is matching!\n",
      "layer3.0.conv2.0.0.weight is not expected\n",
      "layer3.0.conv2.0.1.weight is not expected\n",
      "layer3.0.conv2.0.1.bias is not expected\n",
      "layer3.0.conv2.0.1.running_mean is not expected\n",
      "layer3.0.conv2.0.1.running_var is not expected\n",
      "layer3.0.conv2.0.1.num_batches_tracked is not expected\n",
      "layer3.0.conv2.0.3.weight is not expected\n",
      "layer3.0.conv2.1.weight is not expected\n",
      "layer3.0.conv2.1.bias is not expected\n",
      "layer3.0.conv2.1.running_mean is not expected\n",
      "layer3.0.conv2.1.running_var is not expected\n",
      "layer3.0.conv2.1.num_batches_tracked is not expected\n",
      "layer3.0.downsample.0.weight is matching!\n",
      "layer3.0.downsample.1.weight is matching!\n",
      "layer3.0.downsample.1.bias is matching!\n",
      "layer3.0.downsample.1.running_mean is matching!\n",
      "layer3.0.downsample.1.running_var is matching!\n",
      "layer3.0.downsample.1.num_batches_tracked is matching!\n",
      "layer3.1.conv1.0.0.weight is matching!\n",
      "layer3.1.conv1.0.1.weight is matching!\n",
      "layer3.1.conv1.0.1.bias is matching!\n",
      "layer3.1.conv1.0.1.running_mean is matching!\n",
      "layer3.1.conv1.0.1.running_var is matching!\n",
      "layer3.1.conv1.0.1.num_batches_tracked is matching!\n",
      "layer3.1.conv1.0.3.weight is matching!\n",
      "layer3.1.conv1.1.weight is matching!\n",
      "layer3.1.conv1.1.bias is matching!\n",
      "layer3.1.conv1.1.running_mean is matching!\n",
      "layer3.1.conv1.1.running_var is matching!\n",
      "layer3.1.conv1.1.num_batches_tracked is matching!\n",
      "layer3.1.conv2.0.0.weight is not expected\n",
      "layer3.1.conv2.0.1.weight is not expected\n",
      "layer3.1.conv2.0.1.bias is not expected\n",
      "layer3.1.conv2.0.1.running_mean is not expected\n",
      "layer3.1.conv2.0.1.running_var is not expected\n",
      "layer3.1.conv2.0.1.num_batches_tracked is not expected\n",
      "layer3.1.conv2.0.3.weight is not expected\n",
      "layer3.1.conv2.1.weight is not expected\n",
      "layer3.1.conv2.1.bias is not expected\n",
      "layer3.1.conv2.1.running_mean is not expected\n",
      "layer3.1.conv2.1.running_var is not expected\n",
      "layer3.1.conv2.1.num_batches_tracked is not expected\n",
      "layer4.0.conv1.0.0.weight is matching!\n",
      "layer4.0.conv1.0.1.weight is matching!\n",
      "layer4.0.conv1.0.1.bias is matching!\n",
      "layer4.0.conv1.0.1.running_mean is matching!\n",
      "layer4.0.conv1.0.1.running_var is matching!\n",
      "layer4.0.conv1.0.1.num_batches_tracked is matching!\n",
      "layer4.0.conv1.0.3.weight is matching!\n",
      "layer4.0.conv1.1.weight is matching!\n",
      "layer4.0.conv1.1.bias is matching!\n",
      "layer4.0.conv1.1.running_mean is matching!\n",
      "layer4.0.conv1.1.running_var is matching!\n",
      "layer4.0.conv1.1.num_batches_tracked is matching!\n",
      "layer4.0.conv2.0.0.weight is not expected\n",
      "layer4.0.conv2.0.1.weight is not expected\n",
      "layer4.0.conv2.0.1.bias is not expected\n",
      "layer4.0.conv2.0.1.running_mean is not expected\n",
      "layer4.0.conv2.0.1.running_var is not expected\n",
      "layer4.0.conv2.0.1.num_batches_tracked is not expected\n",
      "layer4.0.conv2.0.3.weight is not expected\n",
      "layer4.0.conv2.1.weight is not expected\n",
      "layer4.0.conv2.1.bias is not expected\n",
      "layer4.0.conv2.1.running_mean is not expected\n",
      "layer4.0.conv2.1.running_var is not expected\n",
      "layer4.0.conv2.1.num_batches_tracked is not expected\n",
      "layer4.0.downsample.0.weight is matching!\n",
      "layer4.0.downsample.1.weight is matching!\n",
      "layer4.0.downsample.1.bias is matching!\n",
      "layer4.0.downsample.1.running_mean is matching!\n",
      "layer4.0.downsample.1.running_var is matching!\n",
      "layer4.0.downsample.1.num_batches_tracked is matching!\n",
      "layer4.1.conv1.0.0.weight is matching!\n",
      "layer4.1.conv1.0.1.weight is matching!\n",
      "layer4.1.conv1.0.1.bias is matching!\n",
      "layer4.1.conv1.0.1.running_mean is matching!\n",
      "layer4.1.conv1.0.1.running_var is matching!\n",
      "layer4.1.conv1.0.1.num_batches_tracked is matching!\n",
      "layer4.1.conv1.0.3.weight is matching!\n",
      "layer4.1.conv1.1.weight is matching!\n",
      "layer4.1.conv1.1.bias is matching!\n",
      "layer4.1.conv1.1.running_mean is matching!\n",
      "layer4.1.conv1.1.running_var is matching!\n",
      "layer4.1.conv1.1.num_batches_tracked is matching!\n",
      "layer4.1.conv2.0.0.weight is not expected\n",
      "layer4.1.conv2.0.1.weight is not expected\n",
      "layer4.1.conv2.0.1.bias is not expected\n",
      "layer4.1.conv2.0.1.running_mean is not expected\n",
      "layer4.1.conv2.0.1.running_var is not expected\n",
      "layer4.1.conv2.0.1.num_batches_tracked is not expected\n",
      "layer4.1.conv2.0.3.weight is not expected\n",
      "layer4.1.conv2.1.weight is not expected\n",
      "layer4.1.conv2.1.bias is not expected\n",
      "layer4.1.conv2.1.running_mean is not expected\n",
      "layer4.1.conv2.1.running_var is not expected\n",
      "layer4.1.conv2.1.num_batches_tracked is not expected\n",
      "fc.weight s shape is NOT matching! we got torch.Size([400, 512]) but expected torch.Size([174, 512])\n",
      "fc.bias s shape is NOT matching! we got torch.Size([400]) but expected torch.Size([174])\n"
     ]
    }
   ],
   "execution_count": 3
  },
  {
   "metadata": {
    "ExecuteTime": {
     "end_time": "2025-06-01T20:29:45.713978Z",
     "start_time": "2025-06-01T20:26:30.854877Z"
    }
   },
   "cell_type": "code",
   "source": [
    "from torchvision.transforms import Compose\n",
    "\n",
    "data_root = \"./data/something-something-v2\"\n",
    "train_set = HuggingFaceSSV2Dataset(data_root)\n",
    "val_set = HuggingFaceSSV2Dataset(data_root, data_split='validation')\n",
    "\n",
    "num_cls = len(train_set.idx2templates)"
   ],
   "id": "79e14e74b014d23d",
   "outputs": [
    {
     "name": "stdout",
     "output_type": "stream",
     "text": [
      "loading train dataset files, it may take a while...\n",
      "train dataset loaded\n",
      "loading validation dataset files, it may take a while...\n",
      "validation dataset loaded\n"
     ]
    }
   ],
   "execution_count": 4
  },
  {
   "metadata": {
    "ExecuteTime": {
     "end_time": "2025-06-01T20:33:22.686559Z",
     "start_time": "2025-06-01T20:29:45.769249Z"
    }
   },
   "cell_type": "code",
   "source": [
    "from torch.utils.data import DataLoader\n",
    "\n",
    "train_loader = DataLoader(train_set, batch_size=16, shuffle=True, num_workers=4)\n",
    "val_loader = DataLoader(val_set, batch_size=16, shuffle=False, num_workers=4)\n",
    "\n",
    "trainer = Trainer(model, train_loader, val_loader, device)\n",
    "trainer.fit(epochs=10)"
   ],
   "id": "8a6fe6b33e536796",
   "outputs": [
    {
     "name": "stderr",
     "output_type": "stream",
     "text": [
      "                                                                                                  \r"
     ]
    },
    {
     "ename": "KeyboardInterrupt",
     "evalue": "",
     "output_type": "error",
     "traceback": [
      "\u001B[31m---------------------------------------------------------------------------\u001B[39m",
      "\u001B[31mKeyboardInterrupt\u001B[39m                         Traceback (most recent call last)",
      "\u001B[36mCell\u001B[39m\u001B[36m \u001B[39m\u001B[32mIn[5]\u001B[39m\u001B[32m, line 7\u001B[39m\n\u001B[32m      4\u001B[39m val_loader = DataLoader(val_set, batch_size=\u001B[32m16\u001B[39m, shuffle=\u001B[38;5;28;01mFalse\u001B[39;00m, num_workers=\u001B[32m4\u001B[39m)\n\u001B[32m      6\u001B[39m trainer = Trainer(model, train_loader, val_loader, device)\n\u001B[32m----> \u001B[39m\u001B[32m7\u001B[39m \u001B[43mtrainer\u001B[49m\u001B[43m.\u001B[49m\u001B[43mfit\u001B[49m\u001B[43m(\u001B[49m\u001B[43mepochs\u001B[49m\u001B[43m=\u001B[49m\u001B[32;43m10\u001B[39;49m\u001B[43m)\u001B[49m\n",
      "\u001B[36mCell\u001B[39m\u001B[36m \u001B[39m\u001B[32mIn[2]\u001B[39m\u001B[32m, line 67\u001B[39m, in \u001B[36mTrainer.fit\u001B[39m\u001B[34m(self, epochs)\u001B[39m\n\u001B[32m     65\u001B[39m \u001B[38;5;28;01mdef\u001B[39;00m\u001B[38;5;250m \u001B[39m\u001B[34mfit\u001B[39m(\u001B[38;5;28mself\u001B[39m, epochs):\n\u001B[32m     66\u001B[39m     \u001B[38;5;28;01mfor\u001B[39;00m epoch \u001B[38;5;129;01min\u001B[39;00m \u001B[38;5;28mrange\u001B[39m(\u001B[32m1\u001B[39m, epochs + \u001B[32m1\u001B[39m):\n\u001B[32m---> \u001B[39m\u001B[32m67\u001B[39m         train_loss, train_acc = \u001B[38;5;28;43mself\u001B[39;49m\u001B[43m.\u001B[49m\u001B[43mtrain_epoch\u001B[49m\u001B[43m(\u001B[49m\u001B[43mepoch\u001B[49m\u001B[43m)\u001B[49m\n\u001B[32m     68\u001B[39m         val_loss, val_acc = \u001B[38;5;28mself\u001B[39m.eval_epoch(epoch)\n\u001B[32m     69\u001B[39m         \u001B[38;5;28mself\u001B[39m.scheduler.step(val_loss)\n",
      "\u001B[36mCell\u001B[39m\u001B[36m \u001B[39m\u001B[32mIn[2]\u001B[39m\u001B[32m, line 28\u001B[39m, in \u001B[36mTrainer.train_epoch\u001B[39m\u001B[34m(self, epoch)\u001B[39m\n\u001B[32m     25\u001B[39m loss.backward()\n\u001B[32m     26\u001B[39m \u001B[38;5;28mself\u001B[39m.optimizer.step()\n\u001B[32m---> \u001B[39m\u001B[32m28\u001B[39m total_loss += \u001B[43mloss\u001B[49m\u001B[43m.\u001B[49m\u001B[43mitem\u001B[49m\u001B[43m(\u001B[49m\u001B[43m)\u001B[49m * videos.size(\u001B[32m0\u001B[39m)\n\u001B[32m     29\u001B[39m preds = logits.argmax(dim=\u001B[32m1\u001B[39m)\n\u001B[32m     30\u001B[39m correct += (preds == labels).sum().item()\n",
      "\u001B[31mKeyboardInterrupt\u001B[39m: "
     ]
    }
   ],
   "execution_count": 5
  },
  {
   "metadata": {
    "ExecuteTime": {
     "end_time": "2025-06-01T20:33:22.697675104Z",
     "start_time": "2025-05-28T11:58:16.049782Z"
    }
   },
   "cell_type": "code",
   "source": "trainer.fit(epochs=10)",
   "id": "38599323a2241c9e",
   "outputs": [
    {
     "name": "stderr",
     "output_type": "stream",
     "text": [
      "                                                                                                    \r"
     ]
    },
    {
     "name": "stdout",
     "output_type": "stream",
     "text": [
      "Epoch 1:\n",
      "  Train loss: 1.3462, acc: 0.6181\n",
      "  Val   loss: 4.7826, acc: 0.1700\n"
     ]
    },
    {
     "name": "stderr",
     "output_type": "stream",
     "text": [
      "                                                                                                    \r"
     ]
    },
    {
     "name": "stdout",
     "output_type": "stream",
     "text": [
      "Epoch 2:\n",
      "  Train loss: 0.6608, acc: 0.8137\n",
      "  Val   loss: 4.9276, acc: 0.1736\n"
     ]
    },
    {
     "name": "stderr",
     "output_type": "stream",
     "text": [
      "                                                                                                    \r"
     ]
    },
    {
     "name": "stdout",
     "output_type": "stream",
     "text": [
      "Epoch 3:\n",
      "  Train loss: 0.4568, acc: 0.8751\n",
      "  Val   loss: 5.0893, acc: 0.1728\n"
     ]
    },
    {
     "name": "stderr",
     "output_type": "stream",
     "text": [
      "                                                                                                   \r"
     ]
    },
    {
     "ename": "KeyboardInterrupt",
     "evalue": "",
     "output_type": "error",
     "traceback": [
      "\u001B[31m---------------------------------------------------------------------------\u001B[39m",
      "\u001B[31mKeyboardInterrupt\u001B[39m                         Traceback (most recent call last)",
      "\u001B[36mCell\u001B[39m\u001B[36m \u001B[39m\u001B[32mIn[6]\u001B[39m\u001B[32m, line 1\u001B[39m\n\u001B[32m----> \u001B[39m\u001B[32m1\u001B[39m \u001B[43mtrainer\u001B[49m\u001B[43m.\u001B[49m\u001B[43mfit\u001B[49m\u001B[43m(\u001B[49m\u001B[43mepochs\u001B[49m\u001B[43m=\u001B[49m\u001B[32;43m10\u001B[39;49m\u001B[43m)\u001B[49m\n",
      "\u001B[36mCell\u001B[39m\u001B[36m \u001B[39m\u001B[32mIn[2]\u001B[39m\u001B[32m, line 67\u001B[39m, in \u001B[36mTrainer.fit\u001B[39m\u001B[34m(self, epochs)\u001B[39m\n\u001B[32m     65\u001B[39m \u001B[38;5;28;01mdef\u001B[39;00m\u001B[38;5;250m \u001B[39m\u001B[34mfit\u001B[39m(\u001B[38;5;28mself\u001B[39m, epochs):\n\u001B[32m     66\u001B[39m     \u001B[38;5;28;01mfor\u001B[39;00m epoch \u001B[38;5;129;01min\u001B[39;00m \u001B[38;5;28mrange\u001B[39m(\u001B[32m1\u001B[39m, epochs + \u001B[32m1\u001B[39m):\n\u001B[32m---> \u001B[39m\u001B[32m67\u001B[39m         train_loss, train_acc = \u001B[38;5;28;43mself\u001B[39;49m\u001B[43m.\u001B[49m\u001B[43mtrain_epoch\u001B[49m\u001B[43m(\u001B[49m\u001B[43mepoch\u001B[49m\u001B[43m)\u001B[49m\n\u001B[32m     68\u001B[39m         val_loss, val_acc = \u001B[38;5;28mself\u001B[39m.eval_epoch(epoch)\n\u001B[32m     69\u001B[39m         \u001B[38;5;28mself\u001B[39m.scheduler.step(val_loss)\n",
      "\u001B[36mCell\u001B[39m\u001B[36m \u001B[39m\u001B[32mIn[2]\u001B[39m\u001B[32m, line 28\u001B[39m, in \u001B[36mTrainer.train_epoch\u001B[39m\u001B[34m(self, epoch)\u001B[39m\n\u001B[32m     25\u001B[39m loss.backward()\n\u001B[32m     26\u001B[39m \u001B[38;5;28mself\u001B[39m.optimizer.step()\n\u001B[32m---> \u001B[39m\u001B[32m28\u001B[39m total_loss += \u001B[43mloss\u001B[49m\u001B[43m.\u001B[49m\u001B[43mitem\u001B[49m\u001B[43m(\u001B[49m\u001B[43m)\u001B[49m * videos.size(\u001B[32m0\u001B[39m)\n\u001B[32m     29\u001B[39m preds = logits.argmax(dim=\u001B[32m1\u001B[39m)\n\u001B[32m     30\u001B[39m correct += (preds == labels).sum().item()\n",
      "\u001B[31mKeyboardInterrupt\u001B[39m: "
     ]
    }
   ],
   "execution_count": 6
  },
  {
   "metadata": {},
   "cell_type": "code",
   "outputs": [],
   "execution_count": null,
   "source": "",
   "id": "7e7ba984fbc32976"
  }
 ],
 "metadata": {
  "kernelspec": {
   "display_name": "Python 3",
   "language": "python",
   "name": "python3"
  },
  "language_info": {
   "codemirror_mode": {
    "name": "ipython",
    "version": 2
   },
   "file_extension": ".py",
   "mimetype": "text/x-python",
   "name": "python",
   "nbconvert_exporter": "python",
   "pygments_lexer": "ipython2",
   "version": "2.7.6"
  }
 },
 "nbformat": 4,
 "nbformat_minor": 5
}
